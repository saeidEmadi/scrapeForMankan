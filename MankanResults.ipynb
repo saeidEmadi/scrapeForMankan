{
 "cells": [
  {
   "cell_type": "markdown",
   "id": "26b73f8f-1829-4cf0-8a80-a688f73502f1",
   "metadata": {},
   "source": [
    "# Data loading and cleaning"
   ]
  },
  {
   "cell_type": "code",
   "execution_count": 1,
   "id": "d31be59f-aab0-4d3a-9e3f-79de27a3a032",
   "metadata": {},
   "outputs": [],
   "source": [
    "# impports\n",
    "import pandas as pd"
   ]
  },
  {
   "cell_type": "code",
   "execution_count": 2,
   "id": "21544ab2-7c3f-4376-a259-f784d6b53e74",
   "metadata": {},
   "outputs": [],
   "source": [
    "# load dataset\n",
    "data = pd.read_csv(\"Mankan_dataset.csv\")"
   ]
  },
  {
   "cell_type": "code",
   "execution_count": 3,
   "id": "85e7007e-596e-44e4-87b4-04ce932a6ec0",
   "metadata": {},
   "outputs": [
    {
     "name": "stdout",
     "output_type": "stream",
     "text": [
      "<class 'pandas.core.frame.DataFrame'>\n",
      "RangeIndex: 1821 entries, 0 to 1820\n",
      "Data columns (total 11 columns):\n",
      " #   Column     Non-Null Count  Dtype  \n",
      "---  ------     --------------  -----  \n",
      " 0   siteId     1821 non-null   int64  \n",
      " 1   name       1754 non-null   object \n",
      " 2   calory     1754 non-null   float64\n",
      " 3   carbo      1754 non-null   float64\n",
      " 4   protein    1754 non-null   float64\n",
      " 5   fat        1754 non-null   float64\n",
      " 6   fiber      1754 non-null   float64\n",
      " 7   activity1  1754 non-null   float64\n",
      " 8   activity2  1754 non-null   float64\n",
      " 9   activity3  1754 non-null   float64\n",
      " 10  activity4  1754 non-null   float64\n",
      "dtypes: float64(9), int64(1), object(1)\n",
      "memory usage: 156.6+ KB\n"
     ]
    }
   ],
   "source": [
    "# DataFrame information\n",
    "data.info()"
   ]
  },
  {
   "cell_type": "code",
   "execution_count": 4,
   "id": "f8dd6825-7276-4b1a-95b7-7998e9c18e18",
   "metadata": {},
   "outputs": [
    {
     "data": {
      "text/html": [
       "<div>\n",
       "<style scoped>\n",
       "    .dataframe tbody tr th:only-of-type {\n",
       "        vertical-align: middle;\n",
       "    }\n",
       "\n",
       "    .dataframe tbody tr th {\n",
       "        vertical-align: top;\n",
       "    }\n",
       "\n",
       "    .dataframe thead th {\n",
       "        text-align: right;\n",
       "    }\n",
       "</style>\n",
       "<table border=\"1\" class=\"dataframe\">\n",
       "  <thead>\n",
       "    <tr style=\"text-align: right;\">\n",
       "      <th></th>\n",
       "      <th>siteId</th>\n",
       "      <th>name</th>\n",
       "      <th>calory</th>\n",
       "      <th>carbo</th>\n",
       "      <th>protein</th>\n",
       "      <th>fat</th>\n",
       "      <th>fiber</th>\n",
       "      <th>activity1</th>\n",
       "      <th>activity2</th>\n",
       "      <th>activity3</th>\n",
       "      <th>activity4</th>\n",
       "    </tr>\n",
       "  </thead>\n",
       "  <tbody>\n",
       "    <tr>\n",
       "      <th>0</th>\n",
       "      <td>0</td>\n",
       "      <td>NaN</td>\n",
       "      <td>NaN</td>\n",
       "      <td>NaN</td>\n",
       "      <td>NaN</td>\n",
       "      <td>NaN</td>\n",
       "      <td>NaN</td>\n",
       "      <td>NaN</td>\n",
       "      <td>NaN</td>\n",
       "      <td>NaN</td>\n",
       "      <td>NaN</td>\n",
       "    </tr>\n",
       "    <tr>\n",
       "      <th>1</th>\n",
       "      <td>8</td>\n",
       "      <td>جگر سیاه گوساله، خام</td>\n",
       "      <td>104.0</td>\n",
       "      <td>0.0</td>\n",
       "      <td>18.3</td>\n",
       "      <td>3.4</td>\n",
       "      <td>0.0</td>\n",
       "      <td>14.0</td>\n",
       "      <td>11.0</td>\n",
       "      <td>29.0</td>\n",
       "      <td>25.0</td>\n",
       "    </tr>\n",
       "    <tr>\n",
       "      <th>2</th>\n",
       "      <td>9</td>\n",
       "      <td>جگر سیاه گوسفند، خام</td>\n",
       "      <td>137.0</td>\n",
       "      <td>0.0</td>\n",
       "      <td>20.3</td>\n",
       "      <td>6.2</td>\n",
       "      <td>0.0</td>\n",
       "      <td>19.0</td>\n",
       "      <td>14.0</td>\n",
       "      <td>38.0</td>\n",
       "      <td>33.0</td>\n",
       "    </tr>\n",
       "    <tr>\n",
       "      <th>3</th>\n",
       "      <td>3</td>\n",
       "      <td>تخم مرغ آب پز</td>\n",
       "      <td>155.0</td>\n",
       "      <td>1.1</td>\n",
       "      <td>12.6</td>\n",
       "      <td>10.6</td>\n",
       "      <td>0.0</td>\n",
       "      <td>22.0</td>\n",
       "      <td>16.0</td>\n",
       "      <td>44.0</td>\n",
       "      <td>37.0</td>\n",
       "    </tr>\n",
       "    <tr>\n",
       "      <th>4</th>\n",
       "      <td>2</td>\n",
       "      <td>تخم مرغ سفیده خشک</td>\n",
       "      <td>295.0</td>\n",
       "      <td>0.0</td>\n",
       "      <td>73.7</td>\n",
       "      <td>0.0</td>\n",
       "      <td>0.0</td>\n",
       "      <td>41.0</td>\n",
       "      <td>31.0</td>\n",
       "      <td>83.0</td>\n",
       "      <td>71.0</td>\n",
       "    </tr>\n",
       "    <tr>\n",
       "      <th>5</th>\n",
       "      <td>1</td>\n",
       "      <td>تخم مرغ سفیده خام</td>\n",
       "      <td>52.0</td>\n",
       "      <td>0.7</td>\n",
       "      <td>11.0</td>\n",
       "      <td>0.2</td>\n",
       "      <td>0.0</td>\n",
       "      <td>7.0</td>\n",
       "      <td>5.0</td>\n",
       "      <td>14.0</td>\n",
       "      <td>12.0</td>\n",
       "    </tr>\n",
       "    <tr>\n",
       "      <th>6</th>\n",
       "      <td>10</td>\n",
       "      <td>جگر سیاه سرخ شده گوساله</td>\n",
       "      <td>176.0</td>\n",
       "      <td>0.0</td>\n",
       "      <td>22.3</td>\n",
       "      <td>9.6</td>\n",
       "      <td>0.0</td>\n",
       "      <td>25.0</td>\n",
       "      <td>18.0</td>\n",
       "      <td>50.0</td>\n",
       "      <td>42.0</td>\n",
       "    </tr>\n",
       "    <tr>\n",
       "      <th>7</th>\n",
       "      <td>4</td>\n",
       "      <td>تخم مرغ نیمرو با روغن</td>\n",
       "      <td>191.0</td>\n",
       "      <td>0.7</td>\n",
       "      <td>11.7</td>\n",
       "      <td>15.4</td>\n",
       "      <td>0.0</td>\n",
       "      <td>27.0</td>\n",
       "      <td>20.0</td>\n",
       "      <td>54.0</td>\n",
       "      <td>46.0</td>\n",
       "    </tr>\n",
       "    <tr>\n",
       "      <th>8</th>\n",
       "      <td>12</td>\n",
       "      <td>جگر سیاه (به آرامی پخته ) گاو نر</td>\n",
       "      <td>198.0</td>\n",
       "      <td>3.0</td>\n",
       "      <td>24.8</td>\n",
       "      <td>9.5</td>\n",
       "      <td>0.0</td>\n",
       "      <td>28.0</td>\n",
       "      <td>21.0</td>\n",
       "      <td>56.0</td>\n",
       "      <td>48.0</td>\n",
       "    </tr>\n",
       "    <tr>\n",
       "      <th>9</th>\n",
       "      <td>13</td>\n",
       "      <td>مرغ کامل، خام</td>\n",
       "      <td>201.0</td>\n",
       "      <td>0.0</td>\n",
       "      <td>19.1</td>\n",
       "      <td>13.8</td>\n",
       "      <td>0.0</td>\n",
       "      <td>28.0</td>\n",
       "      <td>21.0</td>\n",
       "      <td>57.0</td>\n",
       "      <td>49.0</td>\n",
       "    </tr>\n",
       "  </tbody>\n",
       "</table>\n",
       "</div>"
      ],
      "text/plain": [
       "   siteId                               name  calory  carbo  protein   fat  \\\n",
       "0       0                                NaN     NaN    NaN      NaN   NaN   \n",
       "1       8               جگر سیاه گوساله، خام   104.0    0.0     18.3   3.4   \n",
       "2       9               جگر سیاه گوسفند، خام   137.0    0.0     20.3   6.2   \n",
       "3       3                      تخم مرغ آب پز   155.0    1.1     12.6  10.6   \n",
       "4       2                  تخم مرغ سفیده خشک   295.0    0.0     73.7   0.0   \n",
       "5       1                  تخم مرغ سفیده خام    52.0    0.7     11.0   0.2   \n",
       "6      10           جگر سیاه سرخ شده گوساله    176.0    0.0     22.3   9.6   \n",
       "7       4              تخم مرغ نیمرو با روغن   191.0    0.7     11.7  15.4   \n",
       "8      12  جگر سیاه (به آرامی پخته ) گاو نر    198.0    3.0     24.8   9.5   \n",
       "9      13                      مرغ کامل، خام   201.0    0.0     19.1  13.8   \n",
       "\n",
       "   fiber  activity1  activity2  activity3  activity4  \n",
       "0    NaN        NaN        NaN        NaN        NaN  \n",
       "1    0.0       14.0       11.0       29.0       25.0  \n",
       "2    0.0       19.0       14.0       38.0       33.0  \n",
       "3    0.0       22.0       16.0       44.0       37.0  \n",
       "4    0.0       41.0       31.0       83.0       71.0  \n",
       "5    0.0        7.0        5.0       14.0       12.0  \n",
       "6    0.0       25.0       18.0       50.0       42.0  \n",
       "7    0.0       27.0       20.0       54.0       46.0  \n",
       "8    0.0       28.0       21.0       56.0       48.0  \n",
       "9    0.0       28.0       21.0       57.0       49.0  "
      ]
     },
     "execution_count": 4,
     "metadata": {},
     "output_type": "execute_result"
    }
   ],
   "source": [
    "# DataFrame Sample rows\n",
    "data.head(10)"
   ]
  },
  {
   "cell_type": "code",
   "execution_count": 5,
   "id": "f2bbf505-361a-4477-aad2-aaa42b2f2635",
   "metadata": {},
   "outputs": [
    {
     "data": {
      "text/plain": [
       "True"
      ]
     },
     "execution_count": 5,
     "metadata": {},
     "output_type": "execute_result"
    }
   ],
   "source": [
    "# check Null record\n",
    "data.isnull().values.any()"
   ]
  },
  {
   "cell_type": "code",
   "execution_count": 6,
   "id": "819c4a92-314b-4208-a328-cbe092f3ad05",
   "metadata": {},
   "outputs": [],
   "source": [
    "# drop Nan values\n",
    "data.dropna(inplace = True)"
   ]
  },
  {
   "cell_type": "code",
   "execution_count": 7,
   "id": "b1349835-7620-44bb-b2b5-02cf8cab7cb8",
   "metadata": {},
   "outputs": [
    {
     "name": "stdout",
     "output_type": "stream",
     "text": [
      "<class 'pandas.core.frame.DataFrame'>\n",
      "Int64Index: 1754 entries, 1 to 1820\n",
      "Data columns (total 11 columns):\n",
      " #   Column     Non-Null Count  Dtype  \n",
      "---  ------     --------------  -----  \n",
      " 0   siteId     1754 non-null   int64  \n",
      " 1   name       1754 non-null   object \n",
      " 2   calory     1754 non-null   float64\n",
      " 3   carbo      1754 non-null   float64\n",
      " 4   protein    1754 non-null   float64\n",
      " 5   fat        1754 non-null   float64\n",
      " 6   fiber      1754 non-null   float64\n",
      " 7   activity1  1754 non-null   float64\n",
      " 8   activity2  1754 non-null   float64\n",
      " 9   activity3  1754 non-null   float64\n",
      " 10  activity4  1754 non-null   float64\n",
      "dtypes: float64(9), int64(1), object(1)\n",
      "memory usage: 164.4+ KB\n"
     ]
    }
   ],
   "source": [
    "# DataFrame information\n",
    "data.info()"
   ]
  },
  {
   "cell_type": "code",
   "execution_count": 8,
   "id": "f740a189-9a81-49cf-acb9-d8592ee9fdd0",
   "metadata": {},
   "outputs": [],
   "source": [
    "# re indexing dataframe after drop\n",
    "data.index = [ _ for _ in range(len(data))]"
   ]
  },
  {
   "cell_type": "code",
   "execution_count": 9,
   "id": "3453c6d4-7c6d-4148-bbf7-b86d41af0d79",
   "metadata": {},
   "outputs": [
    {
     "name": "stdout",
     "output_type": "stream",
     "text": [
      "<class 'pandas.core.frame.DataFrame'>\n",
      "Int64Index: 1754 entries, 0 to 1753\n",
      "Data columns (total 11 columns):\n",
      " #   Column     Non-Null Count  Dtype  \n",
      "---  ------     --------------  -----  \n",
      " 0   siteId     1754 non-null   int64  \n",
      " 1   name       1754 non-null   object \n",
      " 2   calory     1754 non-null   float64\n",
      " 3   carbo      1754 non-null   float64\n",
      " 4   protein    1754 non-null   float64\n",
      " 5   fat        1754 non-null   float64\n",
      " 6   fiber      1754 non-null   float64\n",
      " 7   activity1  1754 non-null   float64\n",
      " 8   activity2  1754 non-null   float64\n",
      " 9   activity3  1754 non-null   float64\n",
      " 10  activity4  1754 non-null   float64\n",
      "dtypes: float64(9), int64(1), object(1)\n",
      "memory usage: 164.4+ KB\n"
     ]
    }
   ],
   "source": [
    "data.info()"
   ]
  },
  {
   "cell_type": "code",
   "execution_count": 10,
   "id": "923b0c03-ace6-41dd-85bc-36c0b3bd3acb",
   "metadata": {},
   "outputs": [],
   "source": [
    "# del siteId Column\n",
    "del data['siteId']"
   ]
  },
  {
   "cell_type": "code",
   "execution_count": 11,
   "id": "a41f698b-0f71-4f34-a983-d51633a4415a",
   "metadata": {},
   "outputs": [
    {
     "data": {
      "text/html": [
       "<div>\n",
       "<style scoped>\n",
       "    .dataframe tbody tr th:only-of-type {\n",
       "        vertical-align: middle;\n",
       "    }\n",
       "\n",
       "    .dataframe tbody tr th {\n",
       "        vertical-align: top;\n",
       "    }\n",
       "\n",
       "    .dataframe thead th {\n",
       "        text-align: right;\n",
       "    }\n",
       "</style>\n",
       "<table border=\"1\" class=\"dataframe\">\n",
       "  <thead>\n",
       "    <tr style=\"text-align: right;\">\n",
       "      <th></th>\n",
       "      <th>name</th>\n",
       "      <th>calory</th>\n",
       "      <th>carbo</th>\n",
       "      <th>protein</th>\n",
       "      <th>fat</th>\n",
       "      <th>fiber</th>\n",
       "      <th>activity1</th>\n",
       "      <th>activity2</th>\n",
       "      <th>activity3</th>\n",
       "      <th>activity4</th>\n",
       "    </tr>\n",
       "  </thead>\n",
       "  <tbody>\n",
       "    <tr>\n",
       "      <th>0</th>\n",
       "      <td>جگر سیاه گوساله، خام</td>\n",
       "      <td>104.0</td>\n",
       "      <td>0.0</td>\n",
       "      <td>18.3</td>\n",
       "      <td>3.4</td>\n",
       "      <td>0.0</td>\n",
       "      <td>14.0</td>\n",
       "      <td>11.0</td>\n",
       "      <td>29.0</td>\n",
       "      <td>25.0</td>\n",
       "    </tr>\n",
       "    <tr>\n",
       "      <th>1</th>\n",
       "      <td>جگر سیاه گوسفند، خام</td>\n",
       "      <td>137.0</td>\n",
       "      <td>0.0</td>\n",
       "      <td>20.3</td>\n",
       "      <td>6.2</td>\n",
       "      <td>0.0</td>\n",
       "      <td>19.0</td>\n",
       "      <td>14.0</td>\n",
       "      <td>38.0</td>\n",
       "      <td>33.0</td>\n",
       "    </tr>\n",
       "    <tr>\n",
       "      <th>2</th>\n",
       "      <td>تخم مرغ آب پز</td>\n",
       "      <td>155.0</td>\n",
       "      <td>1.1</td>\n",
       "      <td>12.6</td>\n",
       "      <td>10.6</td>\n",
       "      <td>0.0</td>\n",
       "      <td>22.0</td>\n",
       "      <td>16.0</td>\n",
       "      <td>44.0</td>\n",
       "      <td>37.0</td>\n",
       "    </tr>\n",
       "    <tr>\n",
       "      <th>3</th>\n",
       "      <td>تخم مرغ سفیده خشک</td>\n",
       "      <td>295.0</td>\n",
       "      <td>0.0</td>\n",
       "      <td>73.7</td>\n",
       "      <td>0.0</td>\n",
       "      <td>0.0</td>\n",
       "      <td>41.0</td>\n",
       "      <td>31.0</td>\n",
       "      <td>83.0</td>\n",
       "      <td>71.0</td>\n",
       "    </tr>\n",
       "    <tr>\n",
       "      <th>4</th>\n",
       "      <td>تخم مرغ سفیده خام</td>\n",
       "      <td>52.0</td>\n",
       "      <td>0.7</td>\n",
       "      <td>11.0</td>\n",
       "      <td>0.2</td>\n",
       "      <td>0.0</td>\n",
       "      <td>7.0</td>\n",
       "      <td>5.0</td>\n",
       "      <td>14.0</td>\n",
       "      <td>12.0</td>\n",
       "    </tr>\n",
       "    <tr>\n",
       "      <th>5</th>\n",
       "      <td>جگر سیاه سرخ شده گوساله</td>\n",
       "      <td>176.0</td>\n",
       "      <td>0.0</td>\n",
       "      <td>22.3</td>\n",
       "      <td>9.6</td>\n",
       "      <td>0.0</td>\n",
       "      <td>25.0</td>\n",
       "      <td>18.0</td>\n",
       "      <td>50.0</td>\n",
       "      <td>42.0</td>\n",
       "    </tr>\n",
       "    <tr>\n",
       "      <th>6</th>\n",
       "      <td>تخم مرغ نیمرو با روغن</td>\n",
       "      <td>191.0</td>\n",
       "      <td>0.7</td>\n",
       "      <td>11.7</td>\n",
       "      <td>15.4</td>\n",
       "      <td>0.0</td>\n",
       "      <td>27.0</td>\n",
       "      <td>20.0</td>\n",
       "      <td>54.0</td>\n",
       "      <td>46.0</td>\n",
       "    </tr>\n",
       "    <tr>\n",
       "      <th>7</th>\n",
       "      <td>جگر سیاه (به آرامی پخته ) گاو نر</td>\n",
       "      <td>198.0</td>\n",
       "      <td>3.0</td>\n",
       "      <td>24.8</td>\n",
       "      <td>9.5</td>\n",
       "      <td>0.0</td>\n",
       "      <td>28.0</td>\n",
       "      <td>21.0</td>\n",
       "      <td>56.0</td>\n",
       "      <td>48.0</td>\n",
       "    </tr>\n",
       "    <tr>\n",
       "      <th>8</th>\n",
       "      <td>مرغ کامل، خام</td>\n",
       "      <td>201.0</td>\n",
       "      <td>0.0</td>\n",
       "      <td>19.1</td>\n",
       "      <td>13.8</td>\n",
       "      <td>0.0</td>\n",
       "      <td>28.0</td>\n",
       "      <td>21.0</td>\n",
       "      <td>57.0</td>\n",
       "      <td>49.0</td>\n",
       "    </tr>\n",
       "    <tr>\n",
       "      <th>9</th>\n",
       "      <td>جگر سیاه گاو نر، خام</td>\n",
       "      <td>155.0</td>\n",
       "      <td>0.0</td>\n",
       "      <td>21.1</td>\n",
       "      <td>7.8</td>\n",
       "      <td>0.0</td>\n",
       "      <td>22.0</td>\n",
       "      <td>16.0</td>\n",
       "      <td>44.0</td>\n",
       "      <td>37.0</td>\n",
       "    </tr>\n",
       "  </tbody>\n",
       "</table>\n",
       "</div>"
      ],
      "text/plain": [
       "                                name  calory  carbo  protein   fat  fiber  \\\n",
       "0               جگر سیاه گوساله، خام   104.0    0.0     18.3   3.4    0.0   \n",
       "1               جگر سیاه گوسفند، خام   137.0    0.0     20.3   6.2    0.0   \n",
       "2                      تخم مرغ آب پز   155.0    1.1     12.6  10.6    0.0   \n",
       "3                  تخم مرغ سفیده خشک   295.0    0.0     73.7   0.0    0.0   \n",
       "4                  تخم مرغ سفیده خام    52.0    0.7     11.0   0.2    0.0   \n",
       "5           جگر سیاه سرخ شده گوساله    176.0    0.0     22.3   9.6    0.0   \n",
       "6              تخم مرغ نیمرو با روغن   191.0    0.7     11.7  15.4    0.0   \n",
       "7  جگر سیاه (به آرامی پخته ) گاو نر    198.0    3.0     24.8   9.5    0.0   \n",
       "8                      مرغ کامل، خام   201.0    0.0     19.1  13.8    0.0   \n",
       "9               جگر سیاه گاو نر، خام   155.0    0.0     21.1   7.8    0.0   \n",
       "\n",
       "   activity1  activity2  activity3  activity4  \n",
       "0       14.0       11.0       29.0       25.0  \n",
       "1       19.0       14.0       38.0       33.0  \n",
       "2       22.0       16.0       44.0       37.0  \n",
       "3       41.0       31.0       83.0       71.0  \n",
       "4        7.0        5.0       14.0       12.0  \n",
       "5       25.0       18.0       50.0       42.0  \n",
       "6       27.0       20.0       54.0       46.0  \n",
       "7       28.0       21.0       56.0       48.0  \n",
       "8       28.0       21.0       57.0       49.0  \n",
       "9       22.0       16.0       44.0       37.0  "
      ]
     },
     "execution_count": 11,
     "metadata": {},
     "output_type": "execute_result"
    }
   ],
   "source": [
    "data.head(10)"
   ]
  },
  {
   "cell_type": "markdown",
   "id": "c6b2c9f5-d71c-4e41-932a-b5abf8c93513",
   "metadata": {},
   "source": [
    "# Predicting the amount of calories"
   ]
  },
  {
   "cell_type": "markdown",
   "id": "abbf9410-cd45-4350-88ec-4df6fa97d8c0",
   "metadata": {},
   "source": [
    "### outlier data"
   ]
  },
  {
   "cell_type": "code",
   "execution_count": 12,
   "id": "0d7857e0-2b32-462e-8f26-ef6c14418d13",
   "metadata": {},
   "outputs": [],
   "source": [
    "data.drop(data[(data['protein'] == max(data['protein']))].index, inplace = True)"
   ]
  },
  {
   "cell_type": "code",
   "execution_count": 13,
   "id": "cc7a01bf-c7d8-4b60-a050-bcd6b2aa39aa",
   "metadata": {},
   "outputs": [],
   "source": [
    "data.drop(data[(data['fiber'] == max(data['fiber']))].index, inplace = True)"
   ]
  },
  {
   "cell_type": "code",
   "execution_count": 14,
   "id": "70e6374f-f565-4a8f-aec3-96bdf76298b8",
   "metadata": {},
   "outputs": [],
   "source": [
    "# drop other columns and split x vars and y (ax+b = y)\n",
    "x_calory = data.drop(['name','calory','activity1','activity2','activity3','activity4'],axis = 1)\n",
    "y_calory = data['calory']"
   ]
  },
  {
   "cell_type": "code",
   "execution_count": 15,
   "id": "04dda43a-4a52-4f80-bc6b-fedd61712b8f",
   "metadata": {},
   "outputs": [],
   "source": [
    "# join x and y for visualing / name and etc columns deleted\n",
    "x_calory = x_calory.join(y_calory)"
   ]
  },
  {
   "cell_type": "code",
   "execution_count": 16,
   "id": "6b7570c7-a8b8-488c-a206-6780a6e098b8",
   "metadata": {},
   "outputs": [],
   "source": [
    "# import visualing packages\n",
    "from sklearn.cluster import KMeans\n",
    "import seaborn as sns\n",
    "import matplotlib.pyplot as plt"
   ]
  },
  {
   "cell_type": "code",
   "execution_count": 17,
   "id": "307c3bb8-8195-42dc-ba37-70c560f62848",
   "metadata": {},
   "outputs": [
    {
     "data": {
      "text/plain": [
       "<AxesSubplot:>"
      ]
     },
     "execution_count": 17,
     "metadata": {},
     "output_type": "execute_result"
    },
    {
     "data": {
      "image/png": "[encoded data removed]",
      "text/plain": [
       "<Figure size 1000x800 with 2 Axes>"
      ]
     },
     "metadata": {},
     "output_type": "display_data"
    }
   ],
   "source": [
    "# set figure size and show heatmap of data corrolation\n",
    "plt.figure(figsize = (10,8))\n",
    "sns.heatmap(x_calory.corr(), annot = True, cmap = \"YlGnBu\")"
   ]
  },
  {
   "cell_type": "code",
   "execution_count": 18,
   "id": "e0232498-2e07-45e3-a847-6e2aac4a1d95",
   "metadata": {},
   "outputs": [
    {
     "data": {
      "text/html": [
       "<div>\n",
       "<style scoped>\n",
       "    .dataframe tbody tr th:only-of-type {\n",
       "        vertical-align: middle;\n",
       "    }\n",
       "\n",
       "    .dataframe tbody tr th {\n",
       "        vertical-align: top;\n",
       "    }\n",
       "\n",
       "    .dataframe thead th {\n",
       "        text-align: right;\n",
       "    }\n",
       "</style>\n",
       "<table border=\"1\" class=\"dataframe\">\n",
       "  <thead>\n",
       "    <tr style=\"text-align: right;\">\n",
       "      <th></th>\n",
       "      <th>calory</th>\n",
       "      <th>carbo</th>\n",
       "      <th>protein</th>\n",
       "      <th>fat</th>\n",
       "      <th>fiber</th>\n",
       "      <th>activity1</th>\n",
       "      <th>activity2</th>\n",
       "      <th>activity3</th>\n",
       "      <th>activity4</th>\n",
       "    </tr>\n",
       "  </thead>\n",
       "  <tbody>\n",
       "    <tr>\n",
       "      <th>count</th>\n",
       "      <td>1751.000000</td>\n",
       "      <td>1751.000000</td>\n",
       "      <td>1751.000000</td>\n",
       "      <td>1751.000000</td>\n",
       "      <td>1751.000000</td>\n",
       "      <td>1751.000000</td>\n",
       "      <td>1751.000000</td>\n",
       "      <td>1751.000000</td>\n",
       "      <td>1751.000000</td>\n",
       "    </tr>\n",
       "    <tr>\n",
       "      <th>mean</th>\n",
       "      <td>218.926899</td>\n",
       "      <td>22.779383</td>\n",
       "      <td>9.231011</td>\n",
       "      <td>10.847459</td>\n",
       "      <td>2.770531</td>\n",
       "      <td>30.621359</td>\n",
       "      <td>22.828098</td>\n",
       "      <td>61.764135</td>\n",
       "      <td>52.916048</td>\n",
       "    </tr>\n",
       "    <tr>\n",
       "      <th>std</th>\n",
       "      <td>170.575400</td>\n",
       "      <td>25.368155</td>\n",
       "      <td>10.153896</td>\n",
       "      <td>16.874551</td>\n",
       "      <td>6.336004</td>\n",
       "      <td>24.238316</td>\n",
       "      <td>18.185477</td>\n",
       "      <td>48.498740</td>\n",
       "      <td>41.584397</td>\n",
       "    </tr>\n",
       "    <tr>\n",
       "      <th>min</th>\n",
       "      <td>0.000000</td>\n",
       "      <td>0.000000</td>\n",
       "      <td>0.000000</td>\n",
       "      <td>0.000000</td>\n",
       "      <td>0.000000</td>\n",
       "      <td>0.000000</td>\n",
       "      <td>0.000000</td>\n",
       "      <td>0.000000</td>\n",
       "      <td>0.000000</td>\n",
       "    </tr>\n",
       "    <tr>\n",
       "      <th>25%</th>\n",
       "      <td>85.000000</td>\n",
       "      <td>2.800000</td>\n",
       "      <td>1.700000</td>\n",
       "      <td>0.500000</td>\n",
       "      <td>0.000000</td>\n",
       "      <td>12.000000</td>\n",
       "      <td>9.000000</td>\n",
       "      <td>24.000000</td>\n",
       "      <td>20.000000</td>\n",
       "    </tr>\n",
       "    <tr>\n",
       "      <th>50%</th>\n",
       "      <td>186.000000</td>\n",
       "      <td>12.500000</td>\n",
       "      <td>6.000000</td>\n",
       "      <td>4.500000</td>\n",
       "      <td>1.200000</td>\n",
       "      <td>26.000000</td>\n",
       "      <td>19.000000</td>\n",
       "      <td>52.000000</td>\n",
       "      <td>45.000000</td>\n",
       "    </tr>\n",
       "    <tr>\n",
       "      <th>75%</th>\n",
       "      <td>313.000000</td>\n",
       "      <td>36.800000</td>\n",
       "      <td>14.000000</td>\n",
       "      <td>14.000000</td>\n",
       "      <td>3.000000</td>\n",
       "      <td>44.000000</td>\n",
       "      <td>33.000000</td>\n",
       "      <td>89.000000</td>\n",
       "      <td>76.000000</td>\n",
       "    </tr>\n",
       "    <tr>\n",
       "      <th>max</th>\n",
       "      <td>959.000000</td>\n",
       "      <td>200.000000</td>\n",
       "      <td>100.000000</td>\n",
       "      <td>100.000000</td>\n",
       "      <td>100.000000</td>\n",
       "      <td>136.000000</td>\n",
       "      <td>102.000000</td>\n",
       "      <td>272.000000</td>\n",
       "      <td>233.000000</td>\n",
       "    </tr>\n",
       "  </tbody>\n",
       "</table>\n",
       "</div>"
      ],
      "text/plain": [
       "            calory        carbo      protein          fat        fiber  \\\n",
       "count  1751.000000  1751.000000  1751.000000  1751.000000  1751.000000   \n",
       "mean    218.926899    22.779383     9.231011    10.847459     2.770531   \n",
       "std     170.575400    25.368155    10.153896    16.874551     6.336004   \n",
       "min       0.000000     0.000000     0.000000     0.000000     0.000000   \n",
       "25%      85.000000     2.800000     1.700000     0.500000     0.000000   \n",
       "50%     186.000000    12.500000     6.000000     4.500000     1.200000   \n",
       "75%     313.000000    36.800000    14.000000    14.000000     3.000000   \n",
       "max     959.000000   200.000000   100.000000   100.000000   100.000000   \n",
       "\n",
       "         activity1    activity2    activity3    activity4  \n",
       "count  1751.000000  1751.000000  1751.000000  1751.000000  \n",
       "mean     30.621359    22.828098    61.764135    52.916048  \n",
       "std      24.238316    18.185477    48.498740    41.584397  \n",
       "min       0.000000     0.000000     0.000000     0.000000  \n",
       "25%      12.000000     9.000000    24.000000    20.000000  \n",
       "50%      26.000000    19.000000    52.000000    45.000000  \n",
       "75%      44.000000    33.000000    89.000000    76.000000  \n",
       "max     136.000000   102.000000   272.000000   233.000000  "
      ]
     },
     "execution_count": 18,
     "metadata": {},
     "output_type": "execute_result"
    }
   ],
   "source": [
    "data.describe()"
   ]
  },
  {
   "cell_type": "code",
   "execution_count": 19,
   "id": "60c4281a-b137-4af9-af81-c2c4e7dc4330",
   "metadata": {},
   "outputs": [],
   "source": [
    "# import estimator and dataset spliter\n",
    "from sklearn.linear_model import LinearRegression\n",
    "from sklearn.model_selection import train_test_split"
   ]
  },
  {
   "cell_type": "code",
   "execution_count": 20,
   "id": "22d79845-4452-46a7-99da-d263ed8e5195",
   "metadata": {},
   "outputs": [],
   "source": [
    "# drop other columns and split x vars and y (ax+b = y)\n",
    "x_calory = data.drop(['name','calory','activity1','activity2','activity3','activity4'],axis = 1)\n",
    "y_calory = data['calory']"
   ]
  },
  {
   "cell_type": "code",
   "execution_count": 21,
   "id": "3849badc-ced9-442a-a505-12805b6fe550",
   "metadata": {},
   "outputs": [],
   "source": [
    "# split train and test data (20% test data)\n",
    "x_calory_train, x_calory_test, y_calory_train, y_calory_test = train_test_split(x_calory, y_calory, \\\n",
    "                                                                                test_size = 0.2, random_state = 20)"
   ]
  },
  {
   "cell_type": "code",
   "execution_count": 22,
   "id": "10d18478-d22e-46f2-9de2-b3072ac832ec",
   "metadata": {},
   "outputs": [
    {
     "data": {
      "text/plain": [
       "LinearRegression()"
      ]
     },
     "execution_count": 22,
     "metadata": {},
     "output_type": "execute_result"
    }
   ],
   "source": [
    "# estimate Linear Regression\n",
    "regression = LinearRegression()\n",
    "regression.fit(x_calory_train, y_calory_train)"
   ]
  },
  {
   "cell_type": "code",
   "execution_count": 23,
   "id": "2eee6bdc-26fd-48f8-9b3e-7514a7be60bf",
   "metadata": {},
   "outputs": [
    {
     "data": {
      "text/plain": [
       "0.9122217357018756"
      ]
     },
     "execution_count": 23,
     "metadata": {},
     "output_type": "execute_result"
    }
   ],
   "source": [
    "# model Score\n",
    "regression.score(x_calory_test, y_calory_test)"
   ]
  },
  {
   "cell_type": "code",
   "execution_count": 24,
   "id": "d04de2fb-6f10-47b8-9d23-e5da180399ba",
   "metadata": {},
   "outputs": [],
   "source": [
    "# use Random Forest Regressor for new model\n",
    "from sklearn.ensemble import RandomForestRegressor"
   ]
  },
  {
   "cell_type": "code",
   "execution_count": 25,
   "id": "4436b207-5e1e-473e-b03a-73ddbd40343e",
   "metadata": {},
   "outputs": [
    {
     "data": {
      "text/plain": [
       "RandomForestRegressor()"
      ]
     },
     "execution_count": 25,
     "metadata": {},
     "output_type": "execute_result"
    }
   ],
   "source": [
    "# run random forest\n",
    "randomReg = RandomForestRegressor()\n",
    "randomReg.fit(x_calory_train, y_calory_train)"
   ]
  },
  {
   "cell_type": "code",
   "execution_count": 26,
   "id": "be7dde59-8bd9-4395-a59b-5a6f72af09f2",
   "metadata": {},
   "outputs": [
    {
     "data": {
      "text/plain": [
       "0.9376781086844989"
      ]
     },
     "execution_count": 26,
     "metadata": {},
     "output_type": "execute_result"
    }
   ],
   "source": [
    "# model Score\n",
    "randomReg.score(x_calory_test, y_calory_test)"
   ]
  },
  {
   "cell_type": "code",
   "execution_count": 27,
   "id": "458b1915-1c81-4e27-8ff0-e0115afa68af",
   "metadata": {},
   "outputs": [
    {
     "name": "stdout",
     "output_type": "stream",
     "text": [
      "calory for 8.0g carbo 16.0 protein 16.0g fat and 1.4g fiber ::        279.24\n"
     ]
    },
    {
     "name": "stderr",
     "output_type": "stream",
     "text": [
      "C:\\ProgramData\\Anaconda3\\lib\\site-packages\\sklearn\\base.py:450: UserWarning: X does not have valid feature names, but RandomForestRegressor was fitted with feature names\n",
      "  warnings.warn(\n"
     ]
    }
   ],
   "source": [
    "# random forest is good > predict as\n",
    "carbo = 8.\n",
    "protein = 16.\n",
    "fat = 16.\n",
    "fiber = 1.4\n",
    "print(f\"calory for {carbo}g carbo {protein} protein {fat}g fat and {fiber}g fiber ::\\\n",
    "        {randomReg.predict([[carbo,protein,fat,fiber]])[0]}\")"
   ]
  },
  {
   "cell_type": "code",
   "execution_count": 28,
   "id": "b0c44f95-d357-4ec5-b7fd-8cf5dfe367d7",
   "metadata": {},
   "outputs": [],
   "source": [
    "# pandas optional setting for MAX rows\n",
    "pd.set_option('display.max_rows', 20)"
   ]
  },
  {
   "cell_type": "code",
   "execution_count": 29,
   "id": "44ab611a-6641-41be-868f-6fbf7ef91af7",
   "metadata": {},
   "outputs": [
    {
     "data": {
      "text/html": [
       "<div>\n",
       "<style scoped>\n",
       "    .dataframe tbody tr th:only-of-type {\n",
       "        vertical-align: middle;\n",
       "    }\n",
       "\n",
       "    .dataframe tbody tr th {\n",
       "        vertical-align: top;\n",
       "    }\n",
       "\n",
       "    .dataframe thead th {\n",
       "        text-align: right;\n",
       "    }\n",
       "</style>\n",
       "<table border=\"1\" class=\"dataframe\">\n",
       "  <thead>\n",
       "    <tr style=\"text-align: right;\">\n",
       "      <th></th>\n",
       "      <th>name</th>\n",
       "      <th>calory</th>\n",
       "      <th>carbo</th>\n",
       "      <th>protein</th>\n",
       "      <th>fat</th>\n",
       "      <th>fiber</th>\n",
       "      <th>activity1</th>\n",
       "      <th>activity2</th>\n",
       "      <th>activity3</th>\n",
       "      <th>activity4</th>\n",
       "    </tr>\n",
       "  </thead>\n",
       "  <tbody>\n",
       "    <tr>\n",
       "      <th>10</th>\n",
       "      <td>سوسیس جگر سیاه</td>\n",
       "      <td>226.0</td>\n",
       "      <td>6.0</td>\n",
       "      <td>13.4</td>\n",
       "      <td>16.7</td>\n",
       "      <td>0.5</td>\n",
       "      <td>32.0</td>\n",
       "      <td>24.0</td>\n",
       "      <td>64.0</td>\n",
       "      <td>55.0</td>\n",
       "    </tr>\n",
       "    <tr>\n",
       "      <th>38</th>\n",
       "      <td>زبان گوساله به آرامی پخته</td>\n",
       "      <td>224.0</td>\n",
       "      <td>3.7</td>\n",
       "      <td>15.0</td>\n",
       "      <td>16.0</td>\n",
       "      <td>0.0</td>\n",
       "      <td>31.0</td>\n",
       "      <td>23.0</td>\n",
       "      <td>63.0</td>\n",
       "      <td>54.0</td>\n",
       "    </tr>\n",
       "    <tr>\n",
       "      <th>794</th>\n",
       "      <td>سوسیس بلغاری</td>\n",
       "      <td>242.0</td>\n",
       "      <td>5.9</td>\n",
       "      <td>12.5</td>\n",
       "      <td>18.6</td>\n",
       "      <td>0.0</td>\n",
       "      <td>34.0</td>\n",
       "      <td>25.0</td>\n",
       "      <td>68.0</td>\n",
       "      <td>59.0</td>\n",
       "    </tr>\n",
       "    <tr>\n",
       "      <th>822</th>\n",
       "      <td>سوسیس</td>\n",
       "      <td>281.0</td>\n",
       "      <td>12.5</td>\n",
       "      <td>13.6</td>\n",
       "      <td>19.7</td>\n",
       "      <td>0.8</td>\n",
       "      <td>39.0</td>\n",
       "      <td>29.0</td>\n",
       "      <td>79.0</td>\n",
       "      <td>68.0</td>\n",
       "    </tr>\n",
       "    <tr>\n",
       "      <th>823</th>\n",
       "      <td>کالباس خشک، 60 % گوشت</td>\n",
       "      <td>241.0</td>\n",
       "      <td>5.5</td>\n",
       "      <td>12.0</td>\n",
       "      <td>20.0</td>\n",
       "      <td>0.0</td>\n",
       "      <td>34.0</td>\n",
       "      <td>25.0</td>\n",
       "      <td>68.0</td>\n",
       "      <td>58.0</td>\n",
       "    </tr>\n",
       "    <tr>\n",
       "      <th>...</th>\n",
       "      <td>...</td>\n",
       "      <td>...</td>\n",
       "      <td>...</td>\n",
       "      <td>...</td>\n",
       "      <td>...</td>\n",
       "      <td>...</td>\n",
       "      <td>...</td>\n",
       "      <td>...</td>\n",
       "      <td>...</td>\n",
       "      <td>...</td>\n",
       "    </tr>\n",
       "    <tr>\n",
       "      <th>1428</th>\n",
       "      <td>کله جوش</td>\n",
       "      <td>236.0</td>\n",
       "      <td>6.8</td>\n",
       "      <td>12.6</td>\n",
       "      <td>18.1</td>\n",
       "      <td>0.5</td>\n",
       "      <td>33.0</td>\n",
       "      <td>25.0</td>\n",
       "      <td>67.0</td>\n",
       "      <td>57.0</td>\n",
       "    </tr>\n",
       "    <tr>\n",
       "      <th>1614</th>\n",
       "      <td>سوسیس مرغ</td>\n",
       "      <td>191.0</td>\n",
       "      <td>4.3</td>\n",
       "      <td>14.6</td>\n",
       "      <td>12.5</td>\n",
       "      <td>0.0</td>\n",
       "      <td>27.0</td>\n",
       "      <td>20.0</td>\n",
       "      <td>54.0</td>\n",
       "      <td>46.0</td>\n",
       "    </tr>\n",
       "    <tr>\n",
       "      <th>1615</th>\n",
       "      <td>خورشت نخودفرنگی</td>\n",
       "      <td>185.0</td>\n",
       "      <td>4.0</td>\n",
       "      <td>11.3</td>\n",
       "      <td>13.6</td>\n",
       "      <td>0.9</td>\n",
       "      <td>26.0</td>\n",
       "      <td>19.0</td>\n",
       "      <td>52.0</td>\n",
       "      <td>45.0</td>\n",
       "    </tr>\n",
       "    <tr>\n",
       "      <th>1619</th>\n",
       "      <td>خورشت قیمه بادمجان</td>\n",
       "      <td>200.0</td>\n",
       "      <td>6.3</td>\n",
       "      <td>11.3</td>\n",
       "      <td>14.0</td>\n",
       "      <td>1.9</td>\n",
       "      <td>28.0</td>\n",
       "      <td>21.0</td>\n",
       "      <td>56.0</td>\n",
       "      <td>48.0</td>\n",
       "    </tr>\n",
       "    <tr>\n",
       "      <th>1744</th>\n",
       "      <td>قیمه و کَورگ غذای کردی (گوشت و تره)</td>\n",
       "      <td>217.0</td>\n",
       "      <td>9.0</td>\n",
       "      <td>15.0</td>\n",
       "      <td>13.0</td>\n",
       "      <td>1.0</td>\n",
       "      <td>30.0</td>\n",
       "      <td>23.0</td>\n",
       "      <td>61.0</td>\n",
       "      <td>52.0</td>\n",
       "    </tr>\n",
       "  </tbody>\n",
       "</table>\n",
       "<p>25 rows × 10 columns</p>\n",
       "</div>"
      ],
      "text/plain": [
       "                                     name  calory  carbo  protein   fat  \\\n",
       "10                         سوسیس جگر سیاه   226.0    6.0     13.4  16.7   \n",
       "38              زبان گوساله به آرامی پخته   224.0    3.7     15.0  16.0   \n",
       "794                          سوسیس بلغاری   242.0    5.9     12.5  18.6   \n",
       "822                                 سوسیس   281.0   12.5     13.6  19.7   \n",
       "823                 کالباس خشک، 60 % گوشت   241.0    5.5     12.0  20.0   \n",
       "...                                   ...     ...    ...      ...   ...   \n",
       "1428                              کله جوش   236.0    6.8     12.6  18.1   \n",
       "1614                            سوسیس مرغ   191.0    4.3     14.6  12.5   \n",
       "1615                      خورشت نخودفرنگی   185.0    4.0     11.3  13.6   \n",
       "1619                   خورشت قیمه بادمجان   200.0    6.3     11.3  14.0   \n",
       "1744  قیمه و کَورگ غذای کردی (گوشت و تره)   217.0    9.0     15.0  13.0   \n",
       "\n",
       "      fiber  activity1  activity2  activity3  activity4  \n",
       "10      0.5       32.0       24.0       64.0       55.0  \n",
       "38      0.0       31.0       23.0       63.0       54.0  \n",
       "794     0.0       34.0       25.0       68.0       59.0  \n",
       "822     0.8       39.0       29.0       79.0       68.0  \n",
       "823     0.0       34.0       25.0       68.0       58.0  \n",
       "...     ...        ...        ...        ...        ...  \n",
       "1428    0.5       33.0       25.0       67.0       57.0  \n",
       "1614    0.0       27.0       20.0       54.0       46.0  \n",
       "1615    0.9       26.0       19.0       52.0       45.0  \n",
       "1619    1.9       28.0       21.0       56.0       48.0  \n",
       "1744    1.0       30.0       23.0       61.0       52.0  \n",
       "\n",
       "[25 rows x 10 columns]"
      ]
     },
     "execution_count": 29,
     "metadata": {},
     "output_type": "execute_result"
    }
   ],
   "source": [
    "# Predictive evaluation\n",
    "alpha = 5\n",
    "data.loc[(carbo + alpha > data['carbo']) & (carbo - alpha < data['carbo'])\n",
    "         & (protein + alpha > data['protein']) & (protein - alpha < data['protein']) \n",
    "         & (fat + alpha > data['fat']) & (fat - alpha < data['fat'])\n",
    "         & (fiber + alpha > data['fiber']) & (fiber - alpha < data['fiber'])]"
   ]
  },
  {
   "cell_type": "code",
   "execution_count": 30,
   "id": "a7492baf-b717-4d9d-8c30-82415d65832d",
   "metadata": {},
   "outputs": [],
   "source": [
    "from sklearn.metrics import mean_squared_error, r2_score,\\\n",
    "    mean_absolute_error, accuracy_score"
   ]
  },
  {
   "cell_type": "code",
   "execution_count": 31,
   "id": "eea71806-ac16-42f5-944b-314443600d10",
   "metadata": {},
   "outputs": [
    {
     "name": "stdout",
     "output_type": "stream",
     "text": [
      "Mean Absolute Error :  17.995206124184\n",
      "Mean Squared Error : 1377.999115794814\n",
      "R-squared : 0.9376781086844989\n"
     ]
    }
   ],
   "source": [
    "# Making predictions on the same data or new data \n",
    "# Evaluating the model\n",
    "print('Mean Absolute Error : ', mean_absolute_error(y_calory_test, randomReg.predict(x_calory_test)))\n",
    "print(f'Mean Squared Error : {mean_squared_error(y_calory_test, randomReg.predict(x_calory_test))}')\n",
    "print(f'R-squared : { r2_score(y_calory_test, randomReg.predict(x_calory_test))}')"
   ]
  },
  {
   "cell_type": "code",
   "execution_count": 32,
   "id": "147efef8-0b34-40ae-8124-68607ea610e5",
   "metadata": {},
   "outputs": [
    {
     "data": {
      "image/png": "[encoded data removed]",
      "text/plain": [
       "<Figure size 640x480 with 1 Axes>"
      ]
     },
     "metadata": {},
     "output_type": "display_data"
    }
   ],
   "source": [
    "plt.scatter(x_calory_test['fat'].values, y_calory_test, color = 'red')\n",
    "plt.scatter(x_calory_test['fat'].values, randomReg.predict(x_calory_test), color = 'green')\n",
    "plt.title('Random Forest Regression')\n",
    "plt.xlabel('fat')\n",
    "plt.ylabel('calory')\n",
    "plt.show() "
   ]
  },
  {
   "cell_type": "code",
   "execution_count": 33,
   "id": "816efd1f-515b-4efb-9ee5-35f8679a9127",
   "metadata": {},
   "outputs": [
    {
     "data": {
      "image/png": "[encoded data removed]",
      "text/plain": [
       "<Figure size 640x480 with 1 Axes>"
      ]
     },
     "metadata": {},
     "output_type": "display_data"
    }
   ],
   "source": [
    "plt.scatter(x_calory_test['carbo'].values, y_calory_test, color = 'red')\n",
    "plt.scatter(x_calory_test['carbo'].values, randomReg.predict(x_calory_test), color = 'green')\n",
    "plt.title('Random Forest Regression')\n",
    "plt.xlabel('carbo')\n",
    "plt.ylabel('calory')\n",
    "plt.show() "
   ]
  },
  {
   "cell_type": "code",
   "execution_count": 34,
   "id": "5cb40e25-9151-4e89-ac40-7202943289db",
   "metadata": {},
   "outputs": [
    {
     "data": {
      "image/png": "[encoded data removed]",
      "text/plain": [
       "<Figure size 640x480 with 1 Axes>"
      ]
     },
     "metadata": {},
     "output_type": "display_data"
    }
   ],
   "source": [
    "plt.scatter(x_calory_test['protein'].values, y_calory_test, color = 'red')\n",
    "plt.scatter(x_calory_test['protein'].values, randomReg.predict(x_calory_test), color = 'green')\n",
    "plt.title('Random Forest Regression')\n",
    "plt.xlabel('protein')\n",
    "plt.ylabel('calory')\n",
    "plt.show() "
   ]
  },
  {
   "cell_type": "code",
   "execution_count": 35,
   "id": "9633bd2f-dbff-4658-9c0d-200ee201b9c9",
   "metadata": {},
   "outputs": [
    {
     "data": {
      "image/png": "[encoded data removed]",
      "text/plain": [
       "<Figure size 640x480 with 1 Axes>"
      ]
     },
     "metadata": {},
     "output_type": "display_data"
    }
   ],
   "source": [
    "plt.scatter(x_calory_test['fiber'].values, y_calory_test, color = 'red')\n",
    "plt.scatter(x_calory_test['fiber'].values, randomReg.predict(x_calory_test), color = 'green')\n",
    "plt.title('Random Forest Regression')\n",
    "plt.xlabel('fiber')\n",
    "plt.ylabel('calory')\n",
    "plt.show() "
   ]
  },
  {
   "cell_type": "markdown",
   "id": "ddf98f2e-2731-4af9-aab5-c9ac0833621c",
   "metadata": {},
   "source": [
    "# Predicting the amount of calories according to the amount of activity"
   ]
  },
  {
   "cell_type": "code",
   "execution_count": 36,
   "id": "b14d8228-8369-4998-9d5d-aea4ab871f11",
   "metadata": {},
   "outputs": [],
   "source": [
    "# rename Columns for activity names\n",
    "data.rename(columns = {'activity1' : 'ridingBike','activity2' : 'run','activity3' : 'walking','activity4' : 'cleaningUp'}\\\n",
    "            , inplace = True)"
   ]
  },
  {
   "cell_type": "code",
   "execution_count": 37,
   "id": "f5583ee5-ee47-4c20-a078-c6011b90080b",
   "metadata": {},
   "outputs": [],
   "source": [
    "# split train and test data (20% test data)\n",
    "x_activity = data.drop(['name','calory','carbo','protein','fat','fiber'],axis = 1)\n",
    "y_activity = data['calory']\n",
    "x_activity_train, x_activity_test, y_activity_train, y_activity_test = train_test_split(x_activity, y_activity,\\\n",
    "                                                                                        test_size = 0.2, random_state=20)"
   ]
  },
  {
   "cell_type": "code",
   "execution_count": 38,
   "id": "2b4d0260-b3b6-46f8-939d-acc4b0ed9da7",
   "metadata": {},
   "outputs": [
    {
     "data": {
      "text/plain": [
       "RandomForestRegressor()"
      ]
     },
     "execution_count": 38,
     "metadata": {},
     "output_type": "execute_result"
    }
   ],
   "source": [
    "randomReg = RandomForestRegressor()\n",
    "randomReg.fit(x_activity_train, y_activity_train)"
   ]
  },
  {
   "cell_type": "code",
   "execution_count": 39,
   "id": "23b63feb-e3ff-4f86-bf7c-fa3dde6bd596",
   "metadata": {},
   "outputs": [
    {
     "data": {
      "text/plain": [
       "0.9998452202466569"
      ]
     },
     "execution_count": 39,
     "metadata": {},
     "output_type": "execute_result"
    }
   ],
   "source": [
    "randomReg.score(x_activity_test,y_activity_test)"
   ]
  },
  {
   "cell_type": "code",
   "execution_count": 40,
   "id": "a7fa3c28-5e0a-4ac2-99c4-df44aa7b07ca",
   "metadata": {},
   "outputs": [
    {
     "name": "stdout",
     "output_type": "stream",
     "text": [
      "Mean Absolute Error:  0.670407456678153\n",
      "Mean Squared Error: 3.422334572132157\n",
      "R-squared: 0.9998452202466569\n"
     ]
    }
   ],
   "source": [
    "# Making predictions on the same data or new data \n",
    "# Evaluating the model\n",
    "print('Mean Absolute Error: ', mean_absolute_error(y_activity_test, randomReg.predict(x_activity_test)))\n",
    "print(f'Mean Squared Error: {mean_squared_error(y_activity_test, randomReg.predict(x_activity_test))}')\n",
    "print(f'R-squared: { r2_score(y_activity_test, randomReg.predict(x_activity_test))}')"
   ]
  },
  {
   "cell_type": "code",
   "execution_count": 41,
   "id": "cf37c069-3c51-4ff0-a826-d17323d5fa57",
   "metadata": {},
   "outputs": [
    {
     "data": {
      "image/png": "[encoded data removed]",
      "text/plain": [
       "<Figure size 640x480 with 1 Axes>"
      ]
     },
     "metadata": {},
     "output_type": "display_data"
    }
   ],
   "source": [
    "plt.scatter(x_activity_test['ridingBike'].values, y_activity_test, color = 'red')\n",
    "plt.scatter(x_activity_test['ridingBike'].values, randomReg.predict(x_activity_test), color = 'green')\n",
    "plt.title('Random Forest Regression')\n",
    "plt.xlabel('ridingBike')\n",
    "plt.ylabel('calory')\n",
    "plt.show() "
   ]
  },
  {
   "cell_type": "code",
   "execution_count": 42,
   "id": "96f15680-448e-420f-be33-2d058ba327dc",
   "metadata": {},
   "outputs": [
    {
     "name": "stdout",
     "output_type": "stream",
     "text": [
      "50.59005772985184\n"
     ]
    },
    {
     "name": "stderr",
     "output_type": "stream",
     "text": [
      "C:\\ProgramData\\Anaconda3\\lib\\site-packages\\sklearn\\base.py:450: UserWarning: X does not have valid feature names, but RandomForestRegressor was fitted with feature names\n",
      "  warnings.warn(\n"
     ]
    }
   ],
   "source": [
    "# predict calory \n",
    "ridingBike = 7 # activity1\n",
    "run = 5        # activity2\n",
    "walking = 14    # activity3\n",
    "cleaningUp = 12 # activity4\n",
    "calory = randomReg.predict([[ridingBike, run, walking, cleaningUp]])[0]\n",
    "print(calory)"
   ]
  },
  {
   "cell_type": "code",
   "execution_count": 43,
   "id": "5c045a04-283a-4e62-b465-152f26e750dd",
   "metadata": {
    "tags": []
   },
   "outputs": [
    {
     "data": {
      "text/html": [
       "<div>\n",
       "<style scoped>\n",
       "    .dataframe tbody tr th:only-of-type {\n",
       "        vertical-align: middle;\n",
       "    }\n",
       "\n",
       "    .dataframe tbody tr th {\n",
       "        vertical-align: top;\n",
       "    }\n",
       "\n",
       "    .dataframe thead th {\n",
       "        text-align: right;\n",
       "    }\n",
       "</style>\n",
       "<table border=\"1\" class=\"dataframe\">\n",
       "  <thead>\n",
       "    <tr style=\"text-align: right;\">\n",
       "      <th></th>\n",
       "      <th>name</th>\n",
       "      <th>calory</th>\n",
       "      <th>carbo</th>\n",
       "      <th>protein</th>\n",
       "      <th>fat</th>\n",
       "      <th>fiber</th>\n",
       "      <th>ridingBike</th>\n",
       "      <th>run</th>\n",
       "      <th>walking</th>\n",
       "      <th>cleaningUp</th>\n",
       "    </tr>\n",
       "  </thead>\n",
       "  <tbody>\n",
       "    <tr>\n",
       "      <th>4</th>\n",
       "      <td>تخم مرغ سفیده خام</td>\n",
       "      <td>52.0</td>\n",
       "      <td>0.7</td>\n",
       "      <td>11.0</td>\n",
       "      <td>0.2</td>\n",
       "      <td>0.0</td>\n",
       "      <td>7.0</td>\n",
       "      <td>5.0</td>\n",
       "      <td>14.0</td>\n",
       "      <td>12.0</td>\n",
       "    </tr>\n",
       "    <tr>\n",
       "      <th>15</th>\n",
       "      <td>سوپ خامه با مرغ</td>\n",
       "      <td>64.0</td>\n",
       "      <td>10.4</td>\n",
       "      <td>8.9</td>\n",
       "      <td>6.5</td>\n",
       "      <td>1.0</td>\n",
       "      <td>9.0</td>\n",
       "      <td>6.0</td>\n",
       "      <td>18.0</td>\n",
       "      <td>15.0</td>\n",
       "    </tr>\n",
       "    <tr>\n",
       "      <th>82</th>\n",
       "      <td>ماهی چهارگوش کباب شده با استخوان</td>\n",
       "      <td>59.0</td>\n",
       "      <td>0.0</td>\n",
       "      <td>14.0</td>\n",
       "      <td>0.3</td>\n",
       "      <td>0.0</td>\n",
       "      <td>8.0</td>\n",
       "      <td>6.0</td>\n",
       "      <td>16.0</td>\n",
       "      <td>14.0</td>\n",
       "    </tr>\n",
       "    <tr>\n",
       "      <th>123</th>\n",
       "      <td>ماهی مونک (Monk) خام</td>\n",
       "      <td>66.0</td>\n",
       "      <td>0.0</td>\n",
       "      <td>15.7</td>\n",
       "      <td>0.4</td>\n",
       "      <td>0.0</td>\n",
       "      <td>9.0</td>\n",
       "      <td>7.0</td>\n",
       "      <td>18.0</td>\n",
       "      <td>16.0</td>\n",
       "    </tr>\n",
       "    <tr>\n",
       "      <th>125</th>\n",
       "      <td>ماهی چهارگوش خام</td>\n",
       "      <td>64.0</td>\n",
       "      <td>0.0</td>\n",
       "      <td>15.1</td>\n",
       "      <td>0.4</td>\n",
       "      <td>0.0</td>\n",
       "      <td>9.0</td>\n",
       "      <td>6.0</td>\n",
       "      <td>18.0</td>\n",
       "      <td>15.0</td>\n",
       "    </tr>\n",
       "    <tr>\n",
       "      <th>...</th>\n",
       "      <td>...</td>\n",
       "      <td>...</td>\n",
       "      <td>...</td>\n",
       "      <td>...</td>\n",
       "      <td>...</td>\n",
       "      <td>...</td>\n",
       "      <td>...</td>\n",
       "      <td>...</td>\n",
       "      <td>...</td>\n",
       "      <td>...</td>\n",
       "    </tr>\n",
       "    <tr>\n",
       "      <th>1702</th>\n",
       "      <td>آش توکی</td>\n",
       "      <td>58.0</td>\n",
       "      <td>11.8</td>\n",
       "      <td>1.8</td>\n",
       "      <td>0.5</td>\n",
       "      <td>1.1</td>\n",
       "      <td>8.0</td>\n",
       "      <td>6.0</td>\n",
       "      <td>16.0</td>\n",
       "      <td>14.0</td>\n",
       "    </tr>\n",
       "    <tr>\n",
       "      <th>1710</th>\n",
       "      <td>کلم بروکلی پخته</td>\n",
       "      <td>35.0</td>\n",
       "      <td>7.2</td>\n",
       "      <td>2.4</td>\n",
       "      <td>0.4</td>\n",
       "      <td>3.3</td>\n",
       "      <td>4.0</td>\n",
       "      <td>3.0</td>\n",
       "      <td>9.0</td>\n",
       "      <td>8.0</td>\n",
       "    </tr>\n",
       "    <tr>\n",
       "      <th>1711</th>\n",
       "      <td>کلم بروکلی سرخ شده/ سوخاری</td>\n",
       "      <td>58.0</td>\n",
       "      <td>6.5</td>\n",
       "      <td>2.1</td>\n",
       "      <td>7.4</td>\n",
       "      <td>3.0</td>\n",
       "      <td>8.0</td>\n",
       "      <td>6.0</td>\n",
       "      <td>16.0</td>\n",
       "      <td>14.0</td>\n",
       "    </tr>\n",
       "    <tr>\n",
       "      <th>1726</th>\n",
       "      <td>کلم بروکسل سرخ شده</td>\n",
       "      <td>59.0</td>\n",
       "      <td>6.4</td>\n",
       "      <td>2.3</td>\n",
       "      <td>3.5</td>\n",
       "      <td>2.3</td>\n",
       "      <td>8.0</td>\n",
       "      <td>6.0</td>\n",
       "      <td>16.0</td>\n",
       "      <td>14.0</td>\n",
       "    </tr>\n",
       "    <tr>\n",
       "      <th>1737</th>\n",
       "      <td>لبو پخته</td>\n",
       "      <td>44.0</td>\n",
       "      <td>10.0</td>\n",
       "      <td>1.7</td>\n",
       "      <td>0.2</td>\n",
       "      <td>2.0</td>\n",
       "      <td>6.0</td>\n",
       "      <td>4.0</td>\n",
       "      <td>12.0</td>\n",
       "      <td>10.0</td>\n",
       "    </tr>\n",
       "  </tbody>\n",
       "</table>\n",
       "<p>215 rows × 10 columns</p>\n",
       "</div>"
      ],
      "text/plain": [
       "                                  name  calory  carbo  protein  fat  fiber  \\\n",
       "4                    تخم مرغ سفیده خام    52.0    0.7     11.0  0.2    0.0   \n",
       "15                     سوپ خامه با مرغ    64.0   10.4      8.9  6.5    1.0   \n",
       "82    ماهی چهارگوش کباب شده با استخوان    59.0    0.0     14.0  0.3    0.0   \n",
       "123               ماهی مونک (Monk) خام    66.0    0.0     15.7  0.4    0.0   \n",
       "125                   ماهی چهارگوش خام    64.0    0.0     15.1  0.4    0.0   \n",
       "...                                ...     ...    ...      ...  ...    ...   \n",
       "1702                           آش توکی    58.0   11.8      1.8  0.5    1.1   \n",
       "1710                  کلم بروکلی پخته     35.0    7.2      2.4  0.4    3.3   \n",
       "1711        کلم بروکلی سرخ شده/ سوخاری    58.0    6.5      2.1  7.4    3.0   \n",
       "1726                کلم بروکسل سرخ شده    59.0    6.4      2.3  3.5    2.3   \n",
       "1737                          لبو پخته    44.0   10.0      1.7  0.2    2.0   \n",
       "\n",
       "      ridingBike  run  walking  cleaningUp  \n",
       "4            7.0  5.0     14.0        12.0  \n",
       "15           9.0  6.0     18.0        15.0  \n",
       "82           8.0  6.0     16.0        14.0  \n",
       "123          9.0  7.0     18.0        16.0  \n",
       "125          9.0  6.0     18.0        15.0  \n",
       "...          ...  ...      ...         ...  \n",
       "1702         8.0  6.0     16.0        14.0  \n",
       "1710         4.0  3.0      9.0         8.0  \n",
       "1711         8.0  6.0     16.0        14.0  \n",
       "1726         8.0  6.0     16.0        14.0  \n",
       "1737         6.0  4.0     12.0        10.0  \n",
       "\n",
       "[215 rows x 10 columns]"
      ]
     },
     "execution_count": 43,
     "metadata": {},
     "output_type": "execute_result"
    }
   ],
   "source": [
    "# Predictive evaluation (activity and calory in dataset)\n",
    "beta = 30\n",
    "data.loc[(ridingBike + beta > data['ridingBike']) & (ridingBike - beta < data['ridingBike'])\n",
    "         & (run + beta > data['run']) & (run - beta < data['run']) \n",
    "         & (walking + beta > data['walking']) & (walking - beta < data['walking'])\n",
    "         & (cleaningUp + beta > data['cleaningUp']) & (cleaningUp - beta < data['cleaningUp'])\n",
    "         & (calory + (beta - beta/3) > data['calory']) & (calory - (beta - beta/3) < data['calory'])]"
   ]
  },
  {
   "cell_type": "code",
   "execution_count": 44,
   "id": "83506982-0eca-4095-bf44-a1eb9e77b6a4",
   "metadata": {
    "tags": []
   },
   "outputs": [
    {
     "data": {
      "text/html": [
       "<div>\n",
       "<style scoped>\n",
       "    .dataframe tbody tr th:only-of-type {\n",
       "        vertical-align: middle;\n",
       "    }\n",
       "\n",
       "    .dataframe tbody tr th {\n",
       "        vertical-align: top;\n",
       "    }\n",
       "\n",
       "    .dataframe thead th {\n",
       "        text-align: right;\n",
       "    }\n",
       "</style>\n",
       "<table border=\"1\" class=\"dataframe\">\n",
       "  <thead>\n",
       "    <tr style=\"text-align: right;\">\n",
       "      <th></th>\n",
       "      <th>name</th>\n",
       "      <th>calory</th>\n",
       "      <th>carbo</th>\n",
       "      <th>protein</th>\n",
       "      <th>fat</th>\n",
       "      <th>fiber</th>\n",
       "      <th>ridingBike</th>\n",
       "      <th>run</th>\n",
       "      <th>walking</th>\n",
       "      <th>cleaningUp</th>\n",
       "    </tr>\n",
       "  </thead>\n",
       "  <tbody>\n",
       "    <tr>\n",
       "      <th>4</th>\n",
       "      <td>تخم مرغ سفیده خام</td>\n",
       "      <td>52.0</td>\n",
       "      <td>0.7</td>\n",
       "      <td>11.0</td>\n",
       "      <td>0.2</td>\n",
       "      <td>0.0</td>\n",
       "      <td>7.0</td>\n",
       "      <td>5.0</td>\n",
       "      <td>14.0</td>\n",
       "      <td>12.0</td>\n",
       "    </tr>\n",
       "    <tr>\n",
       "      <th>82</th>\n",
       "      <td>ماهی چهارگوش کباب شده با استخوان</td>\n",
       "      <td>59.0</td>\n",
       "      <td>0.0</td>\n",
       "      <td>14.0</td>\n",
       "      <td>0.3</td>\n",
       "      <td>0.0</td>\n",
       "      <td>8.0</td>\n",
       "      <td>6.0</td>\n",
       "      <td>16.0</td>\n",
       "      <td>14.0</td>\n",
       "    </tr>\n",
       "    <tr>\n",
       "      <th>170</th>\n",
       "      <td>ماست کم کالری</td>\n",
       "      <td>41.0</td>\n",
       "      <td>6.0</td>\n",
       "      <td>4.3</td>\n",
       "      <td>0.2</td>\n",
       "      <td>0.0</td>\n",
       "      <td>5.0</td>\n",
       "      <td>4.0</td>\n",
       "      <td>11.0</td>\n",
       "      <td>10.0</td>\n",
       "    </tr>\n",
       "    <tr>\n",
       "      <th>176</th>\n",
       "      <td>دوغ پر چرب (غلیظ)</td>\n",
       "      <td>41.0</td>\n",
       "      <td>3.2</td>\n",
       "      <td>2.3</td>\n",
       "      <td>2.2</td>\n",
       "      <td>0.1</td>\n",
       "      <td>5.0</td>\n",
       "      <td>4.0</td>\n",
       "      <td>11.0</td>\n",
       "      <td>10.0</td>\n",
       "    </tr>\n",
       "    <tr>\n",
       "      <th>259</th>\n",
       "      <td>چغندر، خام</td>\n",
       "      <td>43.0</td>\n",
       "      <td>9.6</td>\n",
       "      <td>1.6</td>\n",
       "      <td>0.2</td>\n",
       "      <td>2.8</td>\n",
       "      <td>6.0</td>\n",
       "      <td>4.0</td>\n",
       "      <td>12.0</td>\n",
       "      <td>10.0</td>\n",
       "    </tr>\n",
       "    <tr>\n",
       "      <th>...</th>\n",
       "      <td>...</td>\n",
       "      <td>...</td>\n",
       "      <td>...</td>\n",
       "      <td>...</td>\n",
       "      <td>...</td>\n",
       "      <td>...</td>\n",
       "      <td>...</td>\n",
       "      <td>...</td>\n",
       "      <td>...</td>\n",
       "      <td>...</td>\n",
       "    </tr>\n",
       "    <tr>\n",
       "      <th>1686</th>\n",
       "      <td>گلابی آسیایی</td>\n",
       "      <td>51.0</td>\n",
       "      <td>10.6</td>\n",
       "      <td>0.5</td>\n",
       "      <td>0.2</td>\n",
       "      <td>3.6</td>\n",
       "      <td>7.0</td>\n",
       "      <td>5.0</td>\n",
       "      <td>14.0</td>\n",
       "      <td>12.0</td>\n",
       "    </tr>\n",
       "    <tr>\n",
       "      <th>1702</th>\n",
       "      <td>آش توکی</td>\n",
       "      <td>58.0</td>\n",
       "      <td>11.8</td>\n",
       "      <td>1.8</td>\n",
       "      <td>0.5</td>\n",
       "      <td>1.1</td>\n",
       "      <td>8.0</td>\n",
       "      <td>6.0</td>\n",
       "      <td>16.0</td>\n",
       "      <td>14.0</td>\n",
       "    </tr>\n",
       "    <tr>\n",
       "      <th>1711</th>\n",
       "      <td>کلم بروکلی سرخ شده/ سوخاری</td>\n",
       "      <td>58.0</td>\n",
       "      <td>6.5</td>\n",
       "      <td>2.1</td>\n",
       "      <td>7.4</td>\n",
       "      <td>3.0</td>\n",
       "      <td>8.0</td>\n",
       "      <td>6.0</td>\n",
       "      <td>16.0</td>\n",
       "      <td>14.0</td>\n",
       "    </tr>\n",
       "    <tr>\n",
       "      <th>1726</th>\n",
       "      <td>کلم بروکسل سرخ شده</td>\n",
       "      <td>59.0</td>\n",
       "      <td>6.4</td>\n",
       "      <td>2.3</td>\n",
       "      <td>3.5</td>\n",
       "      <td>2.3</td>\n",
       "      <td>8.0</td>\n",
       "      <td>6.0</td>\n",
       "      <td>16.0</td>\n",
       "      <td>14.0</td>\n",
       "    </tr>\n",
       "    <tr>\n",
       "      <th>1737</th>\n",
       "      <td>لبو پخته</td>\n",
       "      <td>44.0</td>\n",
       "      <td>10.0</td>\n",
       "      <td>1.7</td>\n",
       "      <td>0.2</td>\n",
       "      <td>2.0</td>\n",
       "      <td>6.0</td>\n",
       "      <td>4.0</td>\n",
       "      <td>12.0</td>\n",
       "      <td>10.0</td>\n",
       "    </tr>\n",
       "  </tbody>\n",
       "</table>\n",
       "<p>102 rows × 10 columns</p>\n",
       "</div>"
      ],
      "text/plain": [
       "                                  name  calory  carbo  protein  fat  fiber  \\\n",
       "4                    تخم مرغ سفیده خام    52.0    0.7     11.0  0.2    0.0   \n",
       "82    ماهی چهارگوش کباب شده با استخوان    59.0    0.0     14.0  0.3    0.0   \n",
       "170                      ماست کم کالری    41.0    6.0      4.3  0.2    0.0   \n",
       "176                  دوغ پر چرب (غلیظ)    41.0    3.2      2.3  2.2    0.1   \n",
       "259                         چغندر، خام    43.0    9.6      1.6  0.2    2.8   \n",
       "...                                ...     ...    ...      ...  ...    ...   \n",
       "1686                      گلابی آسیایی    51.0   10.6      0.5  0.2    3.6   \n",
       "1702                           آش توکی    58.0   11.8      1.8  0.5    1.1   \n",
       "1711        کلم بروکلی سرخ شده/ سوخاری    58.0    6.5      2.1  7.4    3.0   \n",
       "1726                کلم بروکسل سرخ شده    59.0    6.4      2.3  3.5    2.3   \n",
       "1737                          لبو پخته    44.0   10.0      1.7  0.2    2.0   \n",
       "\n",
       "      ridingBike  run  walking  cleaningUp  \n",
       "4            7.0  5.0     14.0        12.0  \n",
       "82           8.0  6.0     16.0        14.0  \n",
       "170          5.0  4.0     11.0        10.0  \n",
       "176          5.0  4.0     11.0        10.0  \n",
       "259          6.0  4.0     12.0        10.0  \n",
       "...          ...  ...      ...         ...  \n",
       "1686         7.0  5.0     14.0        12.0  \n",
       "1702         8.0  6.0     16.0        14.0  \n",
       "1711         8.0  6.0     16.0        14.0  \n",
       "1726         8.0  6.0     16.0        14.0  \n",
       "1737         6.0  4.0     12.0        10.0  \n",
       "\n",
       "[102 rows x 10 columns]"
      ]
     },
     "execution_count": 44,
     "metadata": {},
     "output_type": "execute_result"
    }
   ],
   "source": [
    "# Specifications of foods that can be eaten with this level of activity\n",
    "beta = 10\n",
    "data.loc[(calory + beta > data['calory']) & (calory - beta < data['calory'])]"
   ]
  }
 ],
 "metadata": {
  "kernelspec": {
   "display_name": "Python 3 (ipykernel)",
   "language": "python",
   "name": "python3"
  },
  "language_info": {
   "codemirror_mode": {
    "name": "ipython",
    "version": 3
   },
   "file_extension": ".py",
   "mimetype": "text/x-python",
   "name": "python",
   "nbconvert_exporter": "python",
   "pygments_lexer": "ipython3",
   "version": "3.9.13"
  }
 },
 "nbformat": 4,
 "nbformat_minor": 5
}
